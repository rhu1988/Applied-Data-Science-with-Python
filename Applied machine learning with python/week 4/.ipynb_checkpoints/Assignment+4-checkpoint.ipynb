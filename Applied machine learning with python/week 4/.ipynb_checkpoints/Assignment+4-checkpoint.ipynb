{
 "cells": [
  {
   "cell_type": "markdown",
   "metadata": {},
   "source": [
    "---\n",
    "\n",
    "_You are currently looking at **version 1.0** of this notebook. To download notebooks and datafiles, as well as get help on Jupyter notebooks in the Coursera platform, visit the [Jupyter Notebook FAQ](https://www.coursera.org/learn/python-machine-learning/resources/bANLa) course resource._\n",
    "\n",
    "---"
   ]
  },
  {
   "cell_type": "markdown",
   "metadata": {},
   "source": [
    "## Assignment 4 - Understanding and Predicting Property Maintenance Fines\n",
    "\n",
    "This assignment is based on a data challenge from the Michigan Data Science Team ([MDST](http://midas.umich.edu/mdst/)). \n",
    "\n",
    "The Michigan Data Science Team ([MDST](http://midas.umich.edu/mdst/)) and the Michigan Student Symposium for Interdisciplinary Statistical Sciences ([MSSISS](https://sites.lsa.umich.edu/mssiss/)) have partnered with the City of Detroit to help solve one of the most pressing problems facing Detroit - blight. [Blight violations](http://www.detroitmi.gov/How-Do-I/Report/Blight-Complaint-FAQs) are issued by the city to individuals who allow their properties to remain in a deteriorated condition. Every year, the city of Detroit issues millions of dollars in fines to residents and every year, many of these fines remain unpaid. Enforcing unpaid blight fines is a costly and tedious process, so the city wants to know: how can we increase blight ticket compliance?\n",
    "\n",
    "The first step in answering this question is understanding when and why a resident might fail to comply with a blight ticket. This is where predictive modeling comes in. For this assignment, your task is to predict whether a given blight ticket will be paid on time.\n",
    "\n",
    "All data for this assignment has been provided to us through the [Detroit Open Data Portal](https://data.detroitmi.gov/). **Only the data already included in your Coursera directory can be used for training the model for this assignment.** Nonetheless, we encourage you to look into data from other Detroit datasets to help inform feature creation and model selection. We recommend taking a look at the following related datasets:\n",
    "\n",
    "* [Building Permits](https://data.detroitmi.gov/Property-Parcels/Building-Permits/xw2a-a7tf)\n",
    "* [Trades Permits](https://data.detroitmi.gov/Property-Parcels/Trades-Permits/635b-dsgv)\n",
    "* [Improve Detroit: Submitted Issues](https://data.detroitmi.gov/Government/Improve-Detroit-Submitted-Issues/fwz3-w3yn)\n",
    "* [DPD: Citizen Complaints](https://data.detroitmi.gov/Public-Safety/DPD-Citizen-Complaints-2016/kahe-efs3)\n",
    "* [Parcel Map](https://data.detroitmi.gov/Property-Parcels/Parcel-Map/fxkw-udwf)\n",
    "\n",
    "___\n",
    "\n",
    "We provide you with two data files for use in training and validating your models: train.csv and test.csv. Each row in these two files corresponds to a single blight ticket, and includes information about when, why, and to whom each ticket was issued. The target variable is compliance, which is True if the ticket was paid early, on time, or within one month of the hearing data, False if the ticket was paid after the hearing date or not at all, and Null if the violator was found not responsible. Compliance, as well as a handful of other variables that will not be available at test-time, are only included in train.csv.\n",
    "\n",
    "Note: All tickets where the violators were found not responsible are not considered during evaluation. They are included in the training set as an additional source of data for visualization, and to enable unsupervised and semi-supervised approaches. However, they are not included in the test set.\n",
    "\n",
    "<br>\n",
    "\n",
    "**File descriptions** (Use only this data for training your model!)\n",
    "\n",
    "    train.csv - the training set (all tickets issued 2004-2011)\n",
    "    test.csv - the test set (all tickets issued 2012-2016)\n",
    "    addresses.csv & latlons.csv - mapping from ticket id to addresses, and from addresses to lat/lon coordinates. \n",
    "     Note: misspelled addresses may be incorrectly geolocated.\n",
    "\n",
    "<br>\n",
    "\n",
    "**Data fields**\n",
    "\n",
    "train.csv & test.csv\n",
    "\n",
    "    ticket_id - unique identifier for tickets\n",
    "    agency_name - Agency that issued the ticket\n",
    "    inspector_name - Name of inspector that issued the ticket\n",
    "    violator_name - Name of the person/organization that the ticket was issued to\n",
    "    violation_street_number, violation_street_name, violation_zip_code - Address where the violation occurred\n",
    "    mailing_address_str_number, mailing_address_str_name, city, state, zip_code, non_us_str_code, country - Mailing address of the violator\n",
    "    ticket_issued_date - Date and time the ticket was issued\n",
    "    hearing_date - Date and time the violator's hearing was scheduled\n",
    "    violation_code, violation_description - Type of violation\n",
    "    disposition - Judgment and judgement type\n",
    "    fine_amount - Violation fine amount, excluding fees\n",
    "    admin_fee - $20 fee assigned to responsible judgments\n",
    "state_fee - $10 fee assigned to responsible judgments\n",
    "    late_fee - 10% fee assigned to responsible judgments\n",
    "    discount_amount - discount applied, if any\n",
    "    clean_up_cost - DPW clean-up or graffiti removal cost\n",
    "    judgment_amount - Sum of all fines and fees\n",
    "    grafitti_status - Flag for graffiti violations\n",
    "    \n",
    "train.csv only\n",
    "\n",
    "    payment_amount - Amount paid, if any\n",
    "    payment_date - Date payment was made, if it was received\n",
    "    payment_status - Current payment status as of Feb 1 2017\n",
    "    balance_due - Fines and fees still owed\n",
    "    collection_status - Flag for payments in collections\n",
    "    compliance [target variable for prediction] \n",
    "     Null = Not responsible\n",
    "     0 = Responsible, non-compliant\n",
    "     1 = Responsible, compliant\n",
    "    compliance_detail - More information on why each ticket was marked compliant or non-compliant\n",
    "\n",
    "\n",
    "___\n",
    "\n",
    "## Evaluation\n",
    "\n",
    "Your predictions will be given as the probability that the corresponding blight ticket will be paid on time.\n",
    "\n",
    "The evaluation metric for this assignment is the Area Under the ROC Curve (AUC). \n",
    "\n",
    "Your grade will be based on the AUC score computed for your classifier. A model which with an AUROC of 0.7 passes this assignment, over 0.75 will recieve full points.\n",
    "___\n",
    "\n",
    "For this assignment, create a function that trains a model to predict blight ticket compliance in Detroit using `train.csv`. Using this model, return a series of length 61001 with the data being the probability that each corresponding ticket from `test.csv` will be paid, and the index being the ticket_id.\n",
    "\n",
    "Example:\n",
    "\n",
    "    ticket_id\n",
    "       284932    0.531842\n",
    "       285362    0.401958\n",
    "       285361    0.105928\n",
    "       285338    0.018572\n",
    "                 ...\n",
    "       376499    0.208567\n",
    "       376500    0.818759\n",
    "       369851    0.018528\n",
    "       Name: compliance, dtype: float32"
   ]
  },
  {
   "cell_type": "code",
   "execution_count": 79,
   "metadata": {
    "scrolled": true
   },
   "outputs": [
    {
     "name": "stderr",
     "output_type": "stream",
     "text": [
      "/opt/conda/lib/python3.5/site-packages/IPython/core/interactiveshell.py:2717: DtypeWarning: Columns (11,12,31) have mixed types. Specify dtype option on import or set low_memory=False.\n",
      "  interactivity=interactivity, compiler=compiler, result=result)\n"
     ]
    }
   ],
   "source": [
    "import pandas as pd\n",
    "import numpy as np\n",
    "\n",
    "train = pd.read_csv('train.csv', encoding = 'ISO-8859-1')\n",
    "train=train[(train['compliance']==0)|(train['compliance']==1)]\n",
    "test=pd.read_csv('test.csv')\n",
    "address=pd.read_csv('addresses.csv')\n",
    "latlon=pd.read_csv('latlons.csv')"
   ]
  },
  {
   "cell_type": "code",
   "execution_count": 80,
   "metadata": {},
   "outputs": [],
   "source": [
    "train=pd.merge(train,address,how='inner',left_on='ticket_id',right_on='ticket_id')\n",
    "train=pd.merge(train,latlon,how='left',on='address')\n",
    "test=pd.merge(test,address,how='inner',left_on='ticket_id',right_on='ticket_id')\n",
    "test=pd.merge(test,latlon,how='left',on='address')"
   ]
  },
  {
   "cell_type": "code",
   "execution_count": 81,
   "metadata": {
    "scrolled": true
   },
   "outputs": [],
   "source": [
    "#for feature in features_to_keep:\n",
    "    #print(feature,len(train[train[feature].isnull()]))"
   ]
  },
  {
   "cell_type": "code",
   "execution_count": null,
   "metadata": {
    "scrolled": true
   },
   "outputs": [],
   "source": []
  },
  {
   "cell_type": "code",
   "execution_count": 82,
   "metadata": {},
   "outputs": [],
   "source": [
    "from datetime import datetime\n",
    "def timegap(ticket_issued_date,hearing_date):\n",
    "    if not hearing_date or type(hearing_date)!=str: return 73\n",
    "    hearing=datetime.strptime(hearing_date, '%Y-%m-%d %H:%M:%S')\n",
    "    ticket_issued=datetime.strptime(ticket_issued_date, '%Y-%m-%d %H:%M:%S')\n",
    "    gap=hearing-ticket_issued\n",
    "    return gap.days"
   ]
  },
  {
   "cell_type": "code",
   "execution_count": 83,
   "metadata": {},
   "outputs": [],
   "source": [
    "train['time_gap'] = train.apply(lambda row: timegap(row['ticket_issued_date'], row['hearing_date']), axis=1)\n",
    "test['time_gap'] = test.apply(lambda row: timegap(row['ticket_issued_date'], row['hearing_date']), axis=1)"
   ]
  },
  {
   "cell_type": "code",
   "execution_count": 84,
   "metadata": {
    "collapsed": true
   },
   "outputs": [],
   "source": [
    "features_to_remove=['country','violation_code','violation_street_name','inspector_name','violation_description','zip_code','city','violator_name','violation_street_number','violation_zip_code','mailing_address_str_number','mailing_address_str_name','non_us_str_code','grafitti_status','address','ticket_issued_date','hearing_date']"
   ]
  },
  {
   "cell_type": "code",
   "execution_count": 85,
   "metadata": {},
   "outputs": [
    {
     "data": {
      "text/plain": [
       "31"
      ]
     },
     "execution_count": 85,
     "metadata": {},
     "output_type": "execute_result"
    }
   ],
   "source": [
    "features_train=list(train)\n",
    "features_test=list(test)\n",
    "features_to_keep=[]\n",
    "for feature in features_train:\n",
    "    if feature in features_test:\n",
    "        features_to_keep.append(feature)\n",
    "len(features_to_keep)"
   ]
  },
  {
   "cell_type": "code",
   "execution_count": 86,
   "metadata": {},
   "outputs": [
    {
     "data": {
      "text/plain": [
       "['ticket_id',\n",
       " 'agency_name',\n",
       " 'inspector_name',\n",
       " 'violator_name',\n",
       " 'violation_street_number',\n",
       " 'violation_street_name',\n",
       " 'violation_zip_code',\n",
       " 'mailing_address_str_number',\n",
       " 'mailing_address_str_name',\n",
       " 'city',\n",
       " 'state',\n",
       " 'zip_code',\n",
       " 'non_us_str_code',\n",
       " 'country',\n",
       " 'ticket_issued_date',\n",
       " 'hearing_date',\n",
       " 'violation_code',\n",
       " 'violation_description',\n",
       " 'disposition',\n",
       " 'fine_amount',\n",
       " 'admin_fee',\n",
       " 'state_fee',\n",
       " 'late_fee',\n",
       " 'discount_amount',\n",
       " 'clean_up_cost',\n",
       " 'judgment_amount',\n",
       " 'grafitti_status',\n",
       " 'address',\n",
       " 'lat',\n",
       " 'lon',\n",
       " 'time_gap']"
      ]
     },
     "execution_count": 86,
     "metadata": {},
     "output_type": "execute_result"
    }
   ],
   "source": [
    "features_to_keep"
   ]
  },
  {
   "cell_type": "code",
   "execution_count": 87,
   "metadata": {
    "scrolled": true
   },
   "outputs": [
    {
     "data": {
      "text/plain": [
       "['ticket_id',\n",
       " 'agency_name',\n",
       " 'state',\n",
       " 'disposition',\n",
       " 'fine_amount',\n",
       " 'admin_fee',\n",
       " 'state_fee',\n",
       " 'late_fee',\n",
       " 'discount_amount',\n",
       " 'clean_up_cost',\n",
       " 'judgment_amount',\n",
       " 'lat',\n",
       " 'lon',\n",
       " 'time_gap']"
      ]
     },
     "execution_count": 87,
     "metadata": {},
     "output_type": "execute_result"
    }
   ],
   "source": [
    "for feature in features_to_remove:\n",
    "    features_to_keep.remove(feature)\n",
    "features_to_keep"
   ]
  },
  {
   "cell_type": "code",
   "execution_count": 88,
   "metadata": {
    "scrolled": true
   },
   "outputs": [],
   "source": [
    "features_to_keep_train=features_to_keep.copy()\n",
    "features_to_keep_test=features_to_keep.copy()\n",
    "features_to_keep_train.append('compliance')"
   ]
  },
  {
   "cell_type": "code",
   "execution_count": 89,
   "metadata": {
    "scrolled": true
   },
   "outputs": [],
   "source": [
    "train=train[features_to_keep_train].dropna(axis=0,how='any')"
   ]
  },
  {
   "cell_type": "code",
   "execution_count": 90,
   "metadata": {
    "scrolled": true
   },
   "outputs": [],
   "source": [
    "test=test[features_to_keep_test]"
   ]
  },
  {
   "cell_type": "code",
   "execution_count": 91,
   "metadata": {
    "scrolled": false
   },
   "outputs": [
    {
     "name": "stdout",
     "output_type": "stream",
     "text": [
      "ticket_id 0\n",
      "agency_name 0\n",
      "state 331\n",
      "disposition 0\n",
      "fine_amount 0\n",
      "admin_fee 0\n",
      "state_fee 0\n",
      "late_fee 0\n",
      "discount_amount 0\n",
      "clean_up_cost 0\n",
      "judgment_amount 0\n",
      "lat 5\n",
      "lon 5\n",
      "time_gap 0\n"
     ]
    }
   ],
   "source": [
    "for feature in features_to_keep_test:\n",
    "    print(feature,len(test[test[feature].isnull()]))"
   ]
  },
  {
   "cell_type": "code",
   "execution_count": 92,
   "metadata": {
    "scrolled": true
   },
   "outputs": [
    {
     "name": "stdout",
     "output_type": "stream",
     "text": [
      "ticket_id 0\n",
      "agency_name 0\n",
      "state 0\n",
      "disposition 0\n",
      "fine_amount 0\n",
      "admin_fee 0\n",
      "state_fee 0\n",
      "late_fee 0\n",
      "discount_amount 0\n",
      "clean_up_cost 0\n",
      "judgment_amount 0\n",
      "lat 0\n",
      "lon 0\n",
      "time_gap 0\n",
      "compliance 0\n"
     ]
    }
   ],
   "source": [
    "for feature in features_to_keep_train:\n",
    "    print(feature,len(train[train[feature].isnull()]))"
   ]
  },
  {
   "cell_type": "code",
   "execution_count": 93,
   "metadata": {
    "scrolled": true
   },
   "outputs": [],
   "source": [
    "test.fillna(method='pad',inplace=True)"
   ]
  },
  {
   "cell_type": "code",
   "execution_count": 94,
   "metadata": {},
   "outputs": [
    {
     "name": "stdout",
     "output_type": "stream",
     "text": [
      "ticket_id 0\n",
      "agency_name 0\n",
      "state 0\n",
      "disposition 0\n",
      "fine_amount 0\n",
      "admin_fee 0\n",
      "state_fee 0\n",
      "late_fee 0\n",
      "discount_amount 0\n",
      "clean_up_cost 0\n",
      "judgment_amount 0\n",
      "lat 0\n",
      "lon 0\n",
      "time_gap 0\n"
     ]
    }
   ],
   "source": [
    "for feature in features_to_keep_test:\n",
    "    print(feature,len(test[test[feature].isnull()]))"
   ]
  },
  {
   "cell_type": "code",
   "execution_count": 95,
   "metadata": {},
   "outputs": [],
   "source": [
    "features_to_keep_mlp=features_to_keep.copy()\n",
    "features_to_keep_mlp.remove('ticket_id')\n",
    "from sklearn.neural_network import MLPClassifier\n",
    "from sklearn.preprocessing import MinMaxScaler\n",
    "X_train=train[features_to_keep_mlp]\n",
    "X_train=pd.get_dummies(X_train,columns=['agency_name','disposition','state'])\n",
    "y_train=train.compliance\n",
    "X_test=test[features_to_keep_mlp]\n",
    "X_test=pd.get_dummies(X_test,columns=['agency_name','disposition','state'])\n",
    "#scaler = MinMaxScaler()\n",
    "#X_train_scaled = scaler.fit_transform(X_train)\n",
    "#X_test_scaled = scaler.fit_transform(X_test)\n",
    "#model=MLPClassifier().fit(X_train,y_train)\n",
    "#test_prob=model.predict_proba(X_test_scaled)"
   ]
  },
  {
   "cell_type": "code",
   "execution_count": 96,
   "metadata": {},
   "outputs": [
    {
     "data": {
      "text/plain": [
       "58"
      ]
     },
     "execution_count": 96,
     "metadata": {},
     "output_type": "execute_result"
    }
   ],
   "source": [
    "len(test['state'].unique())"
   ]
  },
  {
   "cell_type": "code",
   "execution_count": 97,
   "metadata": {},
   "outputs": [
    {
     "data": {
      "text/plain": [
       "59"
      ]
     },
     "execution_count": 97,
     "metadata": {},
     "output_type": "execute_result"
    }
   ],
   "source": [
    "len(train['state'].unique())"
   ]
  },
  {
   "cell_type": "code",
   "execution_count": 102,
   "metadata": {},
   "outputs": [
    {
     "data": {
      "text/plain": [
       "82"
      ]
     },
     "execution_count": 102,
     "metadata": {},
     "output_type": "execute_result"
    }
   ],
   "source": [
    "len(list(X_train))"
   ]
  },
  {
   "cell_type": "code",
   "execution_count": 103,
   "metadata": {},
   "outputs": [
    {
     "data": {
      "text/plain": [
       "82"
      ]
     },
     "execution_count": 103,
     "metadata": {},
     "output_type": "execute_result"
    }
   ],
   "source": [
    "len(list(X_test))"
   ]
  },
  {
   "cell_type": "code",
   "execution_count": 100,
   "metadata": {},
   "outputs": [],
   "source": [
    "for feature in list(X_train):\n",
    "    if feature not in list(X_test):\n",
    "        X_test[feature]=0"
   ]
  },
  {
   "cell_type": "code",
   "execution_count": 101,
   "metadata": {
    "scrolled": true
   },
   "outputs": [],
   "source": [
    "for feature in list(X_test):\n",
    "    if feature not in list(X_train):\n",
    "        X_train[feature]=0"
   ]
  },
  {
   "cell_type": "code",
   "execution_count": 105,
   "metadata": {},
   "outputs": [],
   "source": [
    "#scaler = MinMaxScaler()\n",
    "#X_train_scaled = scaler.fit_transform(X_train)\n",
    "#X_test_scaled = scaler.fit_transform(X_test)\n",
    "#model=MLPClassifier(hidden_layer_sizes = [100, 10], alpha = 5, random_state = 0, solver='lbfgs', verbose=0).fit(X_train_scaled,y_train)\n",
    "#test_prob=model.predict_proba(X_test_scaled)"
   ]
  },
  {
   "cell_type": "code",
   "execution_count": 106,
   "metadata": {
    "scrolled": true
   },
   "outputs": [
    {
     "data": {
      "text/plain": [
       "ticket_id\n",
       "284932    0.019829\n",
       "285362    0.005521\n",
       "285361    0.013676\n",
       "285338    0.091016\n",
       "285346    0.100644\n",
       "285345    0.091953\n",
       "285347    0.105567\n",
       "285342    0.935178\n",
       "285530    0.204993\n",
       "284989    0.128714\n",
       "285344    0.097974\n",
       "285343    0.037299\n",
       "285340    0.040470\n",
       "285341    0.105766\n",
       "285349    0.113175\n",
       "285348    0.102621\n",
       "284991    0.055236\n",
       "285532    0.140089\n",
       "285406    0.014063\n",
       "285001    0.000751\n",
       "285006    0.000305\n",
       "285405    0.016367\n",
       "285337    0.015966\n",
       "285496    0.031553\n",
       "285497    0.027340\n",
       "285378    0.015170\n",
       "285589    0.026839\n",
       "285585    0.014775\n",
       "285501    0.031772\n",
       "285581    0.004722\n",
       "            ...   \n",
       "376367    0.000108\n",
       "376366    0.000260\n",
       "376362    0.098953\n",
       "376363    0.115278\n",
       "376365    0.000108\n",
       "376364    0.000260\n",
       "376228    0.000857\n",
       "376265    0.000260\n",
       "376286    0.000544\n",
       "376320    0.000598\n",
       "376314    0.000567\n",
       "376327    0.005072\n",
       "376385    0.000919\n",
       "376435    0.860924\n",
       "376370    0.892618\n",
       "376434    0.009310\n",
       "376459    0.027415\n",
       "376478    0.000012\n",
       "376473    0.000575\n",
       "376484    0.000757\n",
       "376482    0.000391\n",
       "376480    0.000391\n",
       "376479    0.000391\n",
       "376481    0.000391\n",
       "376483    0.000595\n",
       "376496    0.000114\n",
       "376497    0.000114\n",
       "376499    0.012681\n",
       "376500    0.012664\n",
       "369851    0.060981\n",
       "Name: compliance, dtype: float64"
      ]
     },
     "execution_count": 106,
     "metadata": {},
     "output_type": "execute_result"
    }
   ],
   "source": [
    "#test_df=pd.read_csv('test.csv')\n",
    "#test_df['compliance']=test_prob[:,1]\n",
    "#test_df.set_index('ticket_id',inplace=True)\n",
    "#test_df.compliance"
   ]
  },
  {
   "cell_type": "code",
   "execution_count": 30,
   "metadata": {},
   "outputs": [
    {
     "name": "stdout",
     "output_type": "stream",
     "text": [
      "agency_name_Health Department\n",
      "agency_name_Neighborhood City Halls\n",
      "country_Aust\n",
      "country_Cana\n",
      "country_Germ\n",
      "state_BL\n"
     ]
    }
   ],
   "source": [
    "for feature in list(X_train):\n",
    "    if feature not in list(X_test):\n",
    "        print(feature)\n",
    "        \n",
    "        "
   ]
  },
  {
   "cell_type": "code",
   "execution_count": 31,
   "metadata": {},
   "outputs": [
    {
     "name": "stdout",
     "output_type": "stream",
     "text": [
      "disposition_Responsible (Fine Waived) by Admis\n",
      "disposition_Responsible - Compl/Adj by Default\n",
      "disposition_Responsible - Compl/Adj by Determi\n",
      "disposition_Responsible by Dismissal\n"
     ]
    }
   ],
   "source": [
    "for feature in list(X_test):\n",
    "    if feature not in list(X_train):\n",
    "        print(feature)"
   ]
  },
  {
   "cell_type": "code",
   "execution_count": null,
   "metadata": {
    "scrolled": true
   },
   "outputs": [],
   "source": []
  },
  {
   "cell_type": "code",
   "execution_count": 3,
   "metadata": {
    "scrolled": true
   },
   "outputs": [
    {
     "name": "stderr",
     "output_type": "stream",
     "text": [
      "/opt/conda/lib/python3.5/site-packages/IPython/core/interactiveshell.py:2827: DtypeWarning: Columns (11,12,31) have mixed types. Specify dtype option on import or set low_memory=False.\n",
      "  if self.run_code(code, result):\n"
     ]
    },
    {
     "data": {
      "text/plain": [
       "ticket_id\n",
       "284932    0.3\n",
       "285362    0.1\n",
       "285361    0.4\n",
       "285338    0.3\n",
       "285346    0.3\n",
       "285345    0.3\n",
       "285347    0.8\n",
       "285342    0.6\n",
       "285530    0.0\n",
       "284989    0.1\n",
       "285344    0.7\n",
       "285343    0.1\n",
       "285340    0.0\n",
       "285341    0.8\n",
       "285349    0.4\n",
       "285348    0.3\n",
       "284991    0.1\n",
       "285532    0.3\n",
       "285406    0.1\n",
       "285001    0.1\n",
       "285006    0.1\n",
       "285405    0.0\n",
       "285337    0.2\n",
       "285496    0.3\n",
       "285497    0.2\n",
       "285378    0.0\n",
       "285589    0.1\n",
       "285585    0.3\n",
       "285501    0.1\n",
       "285581    0.1\n",
       "         ... \n",
       "376367    0.0\n",
       "376366    0.1\n",
       "376362    0.0\n",
       "376363    0.0\n",
       "376365    0.0\n",
       "376364    0.1\n",
       "376228    0.4\n",
       "376265    0.2\n",
       "376286    0.8\n",
       "376320    0.1\n",
       "376314    0.2\n",
       "376327    0.6\n",
       "376385    0.6\n",
       "376435    0.4\n",
       "376370    0.6\n",
       "376434    0.3\n",
       "376459    0.4\n",
       "376478    0.0\n",
       "376473    0.1\n",
       "376484    0.2\n",
       "376482    0.0\n",
       "376480    0.0\n",
       "376479    0.0\n",
       "376481    0.0\n",
       "376483    0.5\n",
       "376496    0.0\n",
       "376497    0.0\n",
       "376499    0.4\n",
       "376500    0.4\n",
       "369851    0.7\n",
       "Name: compliance, dtype: float64"
      ]
     },
     "execution_count": 3,
     "metadata": {},
     "output_type": "execute_result"
    }
   ],
   "source": [
    "def blight_model():\n",
    "    import pandas as pd\n",
    "    import numpy as np\n",
    "\n",
    "    train = pd.read_csv('train.csv', encoding = 'ISO-8859-1')\n",
    "    train=train[(train['compliance']==0)|(train['compliance']==1)]\n",
    "    test=pd.read_csv('test.csv')\n",
    "    address=pd.read_csv('addresses.csv')\n",
    "    latlon=pd.read_csv('latlons.csv')\n",
    "    \n",
    "    train=pd.merge(train,address,how='inner',left_on='ticket_id',right_on='ticket_id')\n",
    "    train=pd.merge(train,latlon,how='left',on='address')\n",
    "    test=pd.merge(test,address,how='inner',left_on='ticket_id',right_on='ticket_id')\n",
    "    test=pd.merge(test,latlon,how='left',on='address')\n",
    "    \n",
    "    from datetime import datetime\n",
    "    def timegap(ticket_issued_date,hearing_date):\n",
    "        if not hearing_date or type(hearing_date)!=str: return 73\n",
    "        hearing=datetime.strptime(hearing_date, '%Y-%m-%d %H:%M:%S')\n",
    "        ticket_issued=datetime.strptime(ticket_issued_date, '%Y-%m-%d %H:%M:%S')\n",
    "        gap=hearing-ticket_issued\n",
    "        return gap.days\n",
    "    \n",
    "    train['time_gap'] = train.apply(lambda row: timegap(row['ticket_issued_date'], row['hearing_date']), axis=1)\n",
    "    test['time_gap'] = test.apply(lambda row: timegap(row['ticket_issued_date'], row['hearing_date']), axis=1)\n",
    "    features_to_remove=['country','violation_code',\n",
    "                        'violation_street_name','inspector_name',\n",
    "                        'violation_description','zip_code','city',\n",
    "                        'violator_name','violation_street_number','violation_zip_code',\n",
    "                        'mailing_address_str_number','mailing_address_str_name','non_us_str_code',\n",
    "                        'grafitti_status','address','ticket_issued_date','hearing_date']\n",
    "    features_train=list(train)\n",
    "    features_test=list(test)\n",
    "    features_to_keep=[]\n",
    "    for feature in features_train:\n",
    "        if feature in features_test:\n",
    "            features_to_keep.append(feature)\n",
    "    for feature in features_to_remove:\n",
    "        features_to_keep.remove(feature)\n",
    "    features_to_keep_train=features_to_keep.copy()\n",
    "    features_to_keep_test=features_to_keep.copy()\n",
    "    features_to_keep_train.append('compliance')\n",
    "    train=train[features_to_keep_train].dropna(axis=0,how='any')\n",
    "    test=test[features_to_keep_test]\n",
    "    test.fillna(method='pad',inplace=True)\n",
    "    \n",
    "    features_to_keep_mlp=features_to_keep.copy()\n",
    "    features_to_keep_mlp.remove('ticket_id')\n",
    "    \n",
    "    from sklearn.neural_network import MLPClassifier\n",
    "    from sklearn.preprocessing import MinMaxScaler\n",
    "    from sklearn.ensemble import RandomForestClassifier\n",
    "    X_train=train[features_to_keep_mlp]\n",
    "    X_train=pd.get_dummies(X_train,columns=['agency_name','disposition','state'])\n",
    "    y_train=train.compliance\n",
    "    X_test=test[features_to_keep_mlp]\n",
    "    X_test=pd.get_dummies(X_test,columns=['agency_name','disposition','state'])\n",
    "    \n",
    "    for feature in list(X_train):\n",
    "        if feature not in list(X_test):\n",
    "            X_test[feature]=0\n",
    "    for feature in list(X_test):\n",
    "        if feature not in list(X_train):\n",
    "            X_train[feature]=0\n",
    "    \n",
    "    scaler = MinMaxScaler()\n",
    "    X_train_scaled = scaler.fit_transform(X_train)\n",
    "    X_test_scaled = scaler.fit_transform(X_test)\n",
    "    #model=MLPClassifier(hidden_layer_sizes = [100, 10], alpha = 5, random_state = 0, solver='lbfgs', verbose=0).fit(X_train_scaled,y_train)\n",
    "    model=RandomForestClassifier().fit(X_train,y_train)\n",
    "    \n",
    "    test_prob=model.predict_proba(X_test)\n",
    "    test_df=pd.read_csv('test.csv')\n",
    "    test_df['compliance']=test_prob[:,1]\n",
    "    test_df.set_index('ticket_id',inplace=True)\n",
    "    \n",
    "    return test_df.compliance\n",
    "\n",
    "blight_model()"
   ]
  },
  {
   "cell_type": "code",
   "execution_count": null,
   "metadata": {
    "collapsed": true
   },
   "outputs": [],
   "source": []
  }
 ],
 "metadata": {
  "coursera": {
   "course_slug": "python-machine-learning",
   "graded_item_id": "nNS8l",
   "launcher_item_id": "yWWk7",
   "part_id": "w8BSS"
  },
  "kernelspec": {
   "display_name": "Python 3",
   "language": "python",
   "name": "python3"
  },
  "language_info": {
   "codemirror_mode": {
    "name": "ipython",
    "version": 3
   },
   "file_extension": ".py",
   "mimetype": "text/x-python",
   "name": "python",
   "nbconvert_exporter": "python",
   "pygments_lexer": "ipython3",
   "version": "3.5.3"
  }
 },
 "nbformat": 4,
 "nbformat_minor": 2
}
